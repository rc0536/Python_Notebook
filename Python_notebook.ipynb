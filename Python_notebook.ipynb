{
 "cells": [
  {
   "cell_type": "markdown",
   "metadata": {},
   "source": [
    "# Python Notebook"
   ]
  },
  {
   "cell_type": "markdown",
   "metadata": {},
   "source": [
    "## Introduction"
   ]
  },
  {
   "cell_type": "markdown",
   "metadata": {},
   "source": [
    "Purpose of the Notebook: A comprehensive guide to review Python syntax, modules, and practice questions before technical interviews."
   ]
  },
  {
   "cell_type": "markdown",
   "metadata": {},
   "source": [
    "## 1. Variables"
   ]
  },
  {
   "cell_type": "markdown",
   "metadata": {},
   "source": [
    "### 1.1 Variable Declaration and Initialization"
   ]
  },
  {
   "cell_type": "code",
   "execution_count": 1,
   "metadata": {},
   "outputs": [
    {
     "name": "stdout",
     "output_type": "stream",
     "text": [
      "5.5\n",
      "5 10 15\n"
     ]
    }
   ],
   "source": [
    "# Example of variable declaration and initialization\n",
    "x = 10  # integer\n",
    "y = 5.5  # float\n",
    "name = \"Ray\"  # string\n",
    "\n",
    "# Variables can be reassigned to different types due to dynamic typing\n",
    "x = 5.5  # now x is a float\n",
    "\n",
    "# Multiple variables can be initialized in one line\n",
    "a, b, c = 5, 10, 15\n",
    "\n",
    "# Output values of the variables\n",
    "print(x)\n",
    "print(a, b, c)"
   ]
  },
  {
   "cell_type": "markdown",
   "metadata": {},
   "source": [
    "### 1.2 Constants"
   ]
  },
  {
   "cell_type": "code",
   "execution_count": 2,
   "metadata": {},
   "outputs": [],
   "source": [
    "# Constants in Python are typically represented with uppercase variable names.\n",
    "PI = 3.14159  # convention to indicate it's a constant\n",
    "\n",
    "# Python does not enforce constants, so you can technically change it\n",
    "PI = 3.14  # This will work, but it's bad practice!\n",
    "\n",
    "# Using typing.Final to make the intention of constants clearer (Python 3.8+)\n",
    "from typing import Final\n",
    "GRAVITY: Final = 9.8\n",
    "\n",
    "# Now if you try to change GRAVITY, you'll get a type hint warning (but Python still won't prevent it).\n",
    "GRAVITY = 9.81  # This is technically possible, but discouraged."
   ]
  },
  {
   "cell_type": "markdown",
   "metadata": {},
   "source": [
    "### 1.3 Variable Scoping (Local, Global, Non-local)"
   ]
  },
  {
   "cell_type": "code",
   "execution_count": null,
   "metadata": {},
   "outputs": [],
   "source": [
    "# Example of local and global scope\n",
    "x = \"global\"\n",
    "\n",
    "def local_scope():\n",
    "    x = \"local\"\n",
    "    print(x)  # Output: local (inside the function scope)\n",
    "\n",
    "local_scope()\n",
    "print(x)  # Output: global (outside the function, global scope)\n",
    "\n",
    "# Using the global keyword\n",
    "y = 5\n",
    "\n",
    "def modify_global():\n",
    "    global y\n",
    "    y = 10  # Modify the global variable y\n",
    "    print(\"Inside function:\", y)\n",
    "\n",
    "modify_global()\n",
    "print(\"Outside function:\", y)\n",
    "\n",
    "# Using the nonlocal keyword in nested functions\n",
    "def outer():\n",
    "    outer_var = \"outer\"\n",
    "\n",
    "    def inner():\n",
    "        nonlocal outer_var\n",
    "        outer_var = \"inner\"\n",
    "        print(\"Inside inner:\", outer_var)\n",
    "\n",
    "    inner()\n",
    "    print(\"Inside outer:\", outer_var)\n",
    "\n",
    "outer()"
   ]
  },
  {
   "cell_type": "markdown",
   "metadata": {},
   "source": [
    "### 1.4 Best Practices for Variables"
   ]
  },
  {
   "cell_type": "code",
   "execution_count": 3,
   "metadata": {},
   "outputs": [
    {
     "name": "stdout",
     "output_type": "stream",
     "text": [
      "15\n",
      "15\n",
      "Immutable example: 10\n",
      "Mutable example: [100, 2, 3]\n"
     ]
    }
   ],
   "source": [
    "# Refactoring Example:\n",
    "# Poor variable names\n",
    "x = 5\n",
    "y = 10\n",
    "z = x + y\n",
    "print(z)\n",
    "\n",
    "# Better variable names\n",
    "length = 5\n",
    "width = 10\n",
    "area = length + width\n",
    "print(area)\n",
    "\n",
    "# Mutability and Immutability Example:\n",
    "# Immutable variable example (int)\n",
    "x = 5\n",
    "x = 10  # Reassigning x\n",
    "\n",
    "# Mutable variable example (list)\n",
    "my_list = [1, 2, 3]\n",
    "my_list[0] = 100  # Modifying the list (allowed because lists are mutable)\n",
    "\n",
    "print(\"Immutable example:\", x)\n",
    "print(\"Mutable example:\", my_list)"
   ]
  },
  {
   "cell_type": "markdown",
   "metadata": {},
   "source": [
    "## 2. Data Types"
   ]
  },
  {
   "cell_type": "markdown",
   "metadata": {},
   "source": [
    "### 2.1 Primitive Data Type"
   ]
  },
  {
   "cell_type": "markdown",
   "metadata": {},
   "source": [
    "Primitive data types are the most basic types of data that Python supports. These data types represent single values and are the building blocks for more complex data structures. In Python, the most common primitive types are:"
   ]
  },
  {
   "cell_type": "markdown",
   "metadata": {},
   "source": [
    "#### 2.1.1 Integers\n",
    "Definition:\n",
    "Integers in Python are whole numbers, both positive and negative, including zero.\n",
    "Python’s integers are of arbitrary precision, meaning they can grow as large as the memory allows.\n",
    "\n",
    "Performance Considerations:\n",
    "Python’s integers are slower compared to primitive integers in lower-level languages like C because they are implemented as objects. However, their arbitrary precision can be very helpful for working with large numbers in scientific and financial applications.\n",
    "\n",
    "Memory Usage: Python integers use more memory compared to fixed-size integers in other programming languages (e.g., int32 or int64 in C).\n",
    "\n",
    "Garbage Collection: Python automatically manages memory for integers and reclaims memory when an integer is no longer in use."
   ]
  },
  {
   "cell_type": "code",
   "execution_count": 4,
   "metadata": {},
   "outputs": [
    {
     "name": "stdout",
     "output_type": "stream",
     "text": [
      "42\n",
      "-99\n",
      "0\n"
     ]
    }
   ],
   "source": [
    "# Positive Integer\n",
    "x = 42\n",
    "print(x)  # Output: 42\n",
    "\n",
    "# Negative Integer\n",
    "y = -99\n",
    "print(y)  # Output: -99\n",
    "\n",
    "# Zero\n",
    "z = 0\n",
    "print(z)  # Output: 0\n"
   ]
  },
  {
   "cell_type": "markdown",
   "metadata": {},
   "source": [
    "##### Basic Operations:\n",
    "Python supports typical arithmetic operations like addition, subtraction, multiplication, division, modulus, exponentiation, and floor division on integers."
   ]
  },
  {
   "cell_type": "code",
   "execution_count": 5,
   "metadata": {},
   "outputs": [
    {
     "name": "stdout",
     "output_type": "stream",
     "text": [
      "Addition: 13\n",
      "Subtraction: 7\n",
      "Multiplication: 30\n",
      "Division: 3.3333333333333335\n",
      "Modulus: 1\n",
      "Exponentiation: 1000\n",
      "Floor Division: 3\n"
     ]
    }
   ],
   "source": [
    "# Arithmetic Operations\n",
    "a = 10\n",
    "b = 3\n",
    "\n",
    "print(\"Addition:\", a + b)            # Output: 13\n",
    "print(\"Subtraction:\", a - b)         # Output: 7\n",
    "print(\"Multiplication:\", a * b)      # Output: 30\n",
    "print(\"Division:\", a / b)            # Output: 3.3333 (float division)\n",
    "print(\"Modulus:\", a % b)             # Output: 1 (remainder)\n",
    "print(\"Exponentiation:\", a ** b)     # Output: 1000 (10 raised to the power of 3)\n",
    "print(\"Floor Division:\", a // b)     # Output: 3 (integer division)\n"
   ]
  },
  {
   "cell_type": "markdown",
   "metadata": {},
   "source": [
    "##### Type Checking and Conversion:\n",
    "You can use the type() function to check if a variable is an integer.\n",
    "Conversion from other data types (e.g., strings or floats) to integers is possible using the int() function."
   ]
  },
  {
   "cell_type": "code",
   "execution_count": 6,
   "metadata": {},
   "outputs": [
    {
     "name": "stdout",
     "output_type": "stream",
     "text": [
      "<class 'int'>\n",
      "12\n",
      "55\n"
     ]
    }
   ],
   "source": [
    "# Type Checking\n",
    "num = 100\n",
    "print(type(num))  # Output: <class 'int'>\n",
    "\n",
    "# Type Conversion\n",
    "float_num = 12.7\n",
    "int_num = int(float_num)\n",
    "print(int_num)  # Output: 12 (Note: Decimal part is truncated, not rounded)\n",
    "\n",
    "# String to Integer Conversion\n",
    "str_num = \"55\"\n",
    "int_from_str = int(str_num)\n",
    "print(int_from_str)  # Output: 55\n"
   ]
  },
  {
   "cell_type": "markdown",
   "metadata": {},
   "source": [
    "##### Integer Division:\n",
    "Integer division can be done using the // operator, which will ignore the remainder and return only the quotient"
   ]
  },
  {
   "cell_type": "code",
   "execution_count": 7,
   "metadata": {},
   "outputs": [
    {
     "name": "stdout",
     "output_type": "stream",
     "text": [
      "3\n"
     ]
    }
   ],
   "source": [
    "# Integer Division\n",
    "result = 15 // 4\n",
    "print(result)  # Output: 3 (ignores the remainder)\n"
   ]
  },
  {
   "cell_type": "markdown",
   "metadata": {},
   "source": [
    "##### Binary, Octal, and Hexadecimal Representations:\n",
    "Integers can also be represented in different number systems like binary, octal, and hexadecimal.\n",
    "Binary: Prefix 0b\n",
    "Octal: Prefix 0o\n",
    "Hexadecimal: Prefix 0x"
   ]
  },
  {
   "cell_type": "code",
   "execution_count": 8,
   "metadata": {},
   "outputs": [
    {
     "name": "stdout",
     "output_type": "stream",
     "text": [
      "10\n",
      "10\n",
      "10\n"
     ]
    }
   ],
   "source": [
    "# Binary Representation\n",
    "bin_num = 0b1010  # Binary for 10\n",
    "print(bin_num)  # Output: 10\n",
    "\n",
    "# Octal Representation\n",
    "oct_num = 0o12  # Octal for 10\n",
    "print(oct_num)  # Output: 10\n",
    "\n",
    "# Hexadecimal Representation\n",
    "hex_num = 0xA  # Hexadecimal for 10\n",
    "print(hex_num)  # Output: 10\n"
   ]
  },
  {
   "cell_type": "markdown",
   "metadata": {},
   "source": [
    "##### Common Functions for Integers:\n",
    "abs(x): Returns the absolute value of an integer.\n",
    "pow(x, y): Returns x raised to the power y.\n",
    "divmod(x, y): Returns a tuple with the quotient and remainder (x // y, x % y)."
   ]
  },
  {
   "cell_type": "code",
   "execution_count": 9,
   "metadata": {},
   "outputs": [
    {
     "name": "stdout",
     "output_type": "stream",
     "text": [
      "45\n",
      "8\n",
      "Quotient: 3 Remainder: 2\n"
     ]
    }
   ],
   "source": [
    "# Absolute value\n",
    "num = -45\n",
    "print(abs(num))  # Output: 45\n",
    "\n",
    "# Power function (similar to x ** y)\n",
    "result = pow(2, 3)\n",
    "print(result)  # Output: 8\n",
    "\n",
    "# Divmod function (returns quotient and remainder)\n",
    "quotient, remainder = divmod(17, 5)\n",
    "print(\"Quotient:\", quotient, \"Remainder:\", remainder)  # Output: Quotient: 3 Remainder: 2\n"
   ]
  },
  {
   "cell_type": "markdown",
   "metadata": {},
   "source": [
    "##### Bitwise Operations:\n",
    "Bitwise operators are used to manipulate individual bits of integers. These operators include & (AND), | (OR), ^ (XOR), ~ (NOT), << (left shift), and >> (right shift)."
   ]
  },
  {
   "cell_type": "code",
   "execution_count": 10,
   "metadata": {},
   "outputs": [
    {
     "name": "stdout",
     "output_type": "stream",
     "text": [
      "1\n",
      "7\n",
      "6\n",
      "-6\n",
      "10\n",
      "2\n"
     ]
    }
   ],
   "source": [
    "# Bitwise AND\n",
    "a = 5  # Binary: 0101\n",
    "b = 3  # Binary: 0011\n",
    "print(a & b)  # Output: 1 (Binary: 0001)\n",
    "\n",
    "# Bitwise OR\n",
    "print(a | b)  # Output: 7 (Binary: 0111)\n",
    "\n",
    "# Bitwise XOR\n",
    "print(a ^ b)  # Output: 6 (Binary: 0110)\n",
    "\n",
    "# Bitwise NOT\n",
    "print(~a)  # Output: -6 (Inverts all the bits)\n",
    "\n",
    "# Left Shift\n",
    "print(a << 1)  # Output: 10 (Binary: 1010)\n",
    "\n",
    "# Right Shift\n",
    "print(a >> 1)  # Output: 2 (Binary: 0010)\n"
   ]
  },
  {
   "cell_type": "markdown",
   "metadata": {},
   "source": [
    "##### Integer Overflow in Python:\n",
    "Python’s integers are of arbitrary precision, meaning they can handle extremely large values without causing an overflow, unlike many other languages."
   ]
  },
  {
   "cell_type": "code",
   "execution_count": 11,
   "metadata": {},
   "outputs": [
    {
     "name": "stdout",
     "output_type": "stream",
     "text": [
      "99999999999999999999999999999999999999\n"
     ]
    }
   ],
   "source": [
    "# Python's large integers\n",
    "large_num = 99999999999999999999999999999999999999\n",
    "print(large_num)  # Python handles large integers with arbitrary precision\n"
   ]
  },
  {
   "cell_type": "markdown",
   "metadata": {},
   "source": [
    "## 3. Control Flow Statements"
   ]
  },
  {
   "cell_type": "markdown",
   "metadata": {},
   "source": [
    "## 4. Functions\n"
   ]
  },
  {
   "cell_type": "markdown",
   "metadata": {},
   "source": [
    "## 5. Modules and Packages"
   ]
  },
  {
   "cell_type": "markdown",
   "metadata": {},
   "source": [
    "## 6. Object-Oriented Programming (OOP)"
   ]
  },
  {
   "cell_type": "markdown",
   "metadata": {},
   "source": [
    "## 7. Exception Handling"
   ]
  },
  {
   "cell_type": "markdown",
   "metadata": {},
   "source": [
    "## 8. File Handling"
   ]
  },
  {
   "cell_type": "markdown",
   "metadata": {},
   "source": [
    "## 9. Advanced Topics"
   ]
  },
  {
   "cell_type": "markdown",
   "metadata": {},
   "source": [
    "## 10. Common Algorithms and Data Structures"
   ]
  },
  {
   "cell_type": "markdown",
   "metadata": {},
   "source": []
  }
 ],
 "metadata": {
  "kernelspec": {
   "display_name": "Python 3",
   "language": "python",
   "name": "python3"
  },
  "language_info": {
   "codemirror_mode": {
    "name": "ipython",
    "version": 3
   },
   "file_extension": ".py",
   "mimetype": "text/x-python",
   "name": "python",
   "nbconvert_exporter": "python",
   "pygments_lexer": "ipython3",
   "version": "3.11.9"
  }
 },
 "nbformat": 4,
 "nbformat_minor": 2
}
