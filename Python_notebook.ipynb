{
 "cells": [
  {
   "cell_type": "markdown",
   "metadata": {},
   "source": [
    "# Python Notebook"
   ]
  },
  {
   "cell_type": "markdown",
   "metadata": {},
   "source": [
    "## Introduction"
   ]
  },
  {
   "cell_type": "markdown",
   "metadata": {},
   "source": [
    "Purpose of the Notebook: A comprehensive guide to review Python syntax, modules, and practice questions before technical interviews."
   ]
  },
  {
   "cell_type": "markdown",
   "metadata": {},
   "source": [
    "## 1. Variables"
   ]
  },
  {
   "cell_type": "markdown",
   "metadata": {},
   "source": [
    "### 1.1 Variable Declaration and Initialization"
   ]
  },
  {
   "cell_type": "code",
   "execution_count": 1,
   "metadata": {},
   "outputs": [
    {
     "name": "stdout",
     "output_type": "stream",
     "text": [
      "5.5\n",
      "5 10 15\n"
     ]
    }
   ],
   "source": [
    "# Example of variable declaration and initialization\n",
    "x = 10  # integer\n",
    "y = 5.5  # float\n",
    "name = \"Ray\"  # string\n",
    "\n",
    "# Variables can be reassigned to different types due to dynamic typing\n",
    "x = 5.5  # now x is a float\n",
    "\n",
    "# Multiple variables can be initialized in one line\n",
    "a, b, c = 5, 10, 15\n",
    "\n",
    "# Output values of the variables\n",
    "print(x)\n",
    "print(a, b, c)"
   ]
  },
  {
   "cell_type": "markdown",
   "metadata": {},
   "source": [
    "### 1.2 Constants"
   ]
  },
  {
   "cell_type": "code",
   "execution_count": 2,
   "metadata": {},
   "outputs": [],
   "source": [
    "# Constants in Python are typically represented with uppercase variable names.\n",
    "PI = 3.14159  # convention to indicate it's a constant\n",
    "\n",
    "# Python does not enforce constants, so you can technically change it\n",
    "PI = 3.14  # This will work, but it's bad practice!\n",
    "\n",
    "# Using typing.Final to make the intention of constants clearer (Python 3.8+)\n",
    "from typing import Final\n",
    "GRAVITY: Final = 9.8\n",
    "\n",
    "# Now if you try to change GRAVITY, you'll get a type hint warning (but Python still won't prevent it).\n",
    "GRAVITY = 9.81  # This is technically possible, but discouraged."
   ]
  },
  {
   "cell_type": "markdown",
   "metadata": {},
   "source": [
    "### 1.3 Variable Scoping (Local, Global, Non-local)"
   ]
  },
  {
   "cell_type": "code",
   "execution_count": null,
   "metadata": {},
   "outputs": [],
   "source": [
    "# Example of local and global scope\n",
    "x = \"global\"\n",
    "\n",
    "def local_scope():\n",
    "    x = \"local\"\n",
    "    print(x)  # Output: local (inside the function scope)\n",
    "\n",
    "local_scope()\n",
    "print(x)  # Output: global (outside the function, global scope)\n",
    "\n",
    "# Using the global keyword\n",
    "y = 5\n",
    "\n",
    "def modify_global():\n",
    "    global y\n",
    "    y = 10  # Modify the global variable y\n",
    "    print(\"Inside function:\", y)\n",
    "\n",
    "modify_global()\n",
    "print(\"Outside function:\", y)\n",
    "\n",
    "# Using the nonlocal keyword in nested functions\n",
    "def outer():\n",
    "    outer_var = \"outer\"\n",
    "\n",
    "    def inner():\n",
    "        nonlocal outer_var\n",
    "        outer_var = \"inner\"\n",
    "        print(\"Inside inner:\", outer_var)\n",
    "\n",
    "    inner()\n",
    "    print(\"Inside outer:\", outer_var)\n",
    "\n",
    "outer()"
   ]
  },
  {
   "cell_type": "markdown",
   "metadata": {},
   "source": [
    "### 1.4 Best Practices for Variables"
   ]
  },
  {
   "cell_type": "code",
   "execution_count": 3,
   "metadata": {},
   "outputs": [
    {
     "name": "stdout",
     "output_type": "stream",
     "text": [
      "15\n",
      "15\n",
      "Immutable example: 10\n",
      "Mutable example: [100, 2, 3]\n"
     ]
    }
   ],
   "source": [
    "# Refactoring Example:\n",
    "# Poor variable names\n",
    "x = 5\n",
    "y = 10\n",
    "z = x + y\n",
    "print(z)\n",
    "\n",
    "# Better variable names\n",
    "length = 5\n",
    "width = 10\n",
    "area = length + width\n",
    "print(area)\n",
    "\n",
    "# Mutability and Immutability Example:\n",
    "# Immutable variable example (int)\n",
    "x = 5\n",
    "x = 10  # Reassigning x\n",
    "\n",
    "# Mutable variable example (list)\n",
    "my_list = [1, 2, 3]\n",
    "my_list[0] = 100  # Modifying the list (allowed because lists are mutable)\n",
    "\n",
    "print(\"Immutable example:\", x)\n",
    "print(\"Mutable example:\", my_list)"
   ]
  },
  {
   "cell_type": "markdown",
   "metadata": {},
   "source": [
    "## 2. Data Types"
   ]
  },
  {
   "cell_type": "markdown",
   "metadata": {},
   "source": [
    "### 2.1 Primitive Data Type"
   ]
  },
  {
   "cell_type": "markdown",
   "metadata": {},
   "source": [
    "Primitive data types are the most basic types of data that Python supports. These data types represent single values and are the building blocks for more complex data structures. In Python, the most common primitive types are:"
   ]
  },
  {
   "cell_type": "markdown",
   "metadata": {},
   "source": [
    "#### 2.1.1 Integers\n",
    "Definition:\n",
    "Integers in Python are whole numbers, both positive and negative, including zero.\n",
    "Python’s integers are of arbitrary precision, meaning they can grow as large as the memory allows.\n",
    "\n",
    "Performance Considerations:\n",
    "Python’s integers are slower compared to primitive integers in lower-level languages like C because they are implemented as objects. However, their arbitrary precision can be very helpful for working with large numbers in scientific and financial applications.\n",
    "\n",
    "Memory Usage: Python integers use more memory compared to fixed-size integers in other programming languages (e.g., int32 or int64 in C).\n",
    "\n",
    "Garbage Collection: Python automatically manages memory for integers and reclaims memory when an integer is no longer in use."
   ]
  },
  {
   "cell_type": "code",
   "execution_count": 4,
   "metadata": {},
   "outputs": [
    {
     "name": "stdout",
     "output_type": "stream",
     "text": [
      "42\n",
      "-99\n",
      "0\n"
     ]
    }
   ],
   "source": [
    "# Positive Integer\n",
    "x = 42\n",
    "print(x)  # Output: 42\n",
    "\n",
    "# Negative Integer\n",
    "y = -99\n",
    "print(y)  # Output: -99\n",
    "\n",
    "# Zero\n",
    "z = 0\n",
    "print(z)  # Output: 0\n"
   ]
  },
  {
   "cell_type": "markdown",
   "metadata": {},
   "source": [
    "##### Basic Operations:\n",
    "Python supports typical arithmetic operations like addition, subtraction, multiplication, division, modulus, exponentiation, and floor division on integers."
   ]
  },
  {
   "cell_type": "code",
   "execution_count": 5,
   "metadata": {},
   "outputs": [
    {
     "name": "stdout",
     "output_type": "stream",
     "text": [
      "Addition: 13\n",
      "Subtraction: 7\n",
      "Multiplication: 30\n",
      "Division: 3.3333333333333335\n",
      "Modulus: 1\n",
      "Exponentiation: 1000\n",
      "Floor Division: 3\n"
     ]
    }
   ],
   "source": [
    "# Arithmetic Operations\n",
    "a = 10\n",
    "b = 3\n",
    "\n",
    "print(\"Addition:\", a + b)            # Output: 13\n",
    "print(\"Subtraction:\", a - b)         # Output: 7\n",
    "print(\"Multiplication:\", a * b)      # Output: 30\n",
    "print(\"Division:\", a / b)            # Output: 3.3333 (float division)\n",
    "print(\"Modulus:\", a % b)             # Output: 1 (remainder)\n",
    "print(\"Exponentiation:\", a ** b)     # Output: 1000 (10 raised to the power of 3)\n",
    "print(\"Floor Division:\", a // b)     # Output: 3 (integer division)\n"
   ]
  },
  {
   "cell_type": "markdown",
   "metadata": {},
   "source": [
    "##### Type Checking and Conversion:\n",
    "You can use the type() function to check if a variable is an integer.\n",
    "Conversion from other data types (e.g., strings or floats) to integers is possible using the int() function."
   ]
  },
  {
   "cell_type": "code",
   "execution_count": 6,
   "metadata": {},
   "outputs": [
    {
     "name": "stdout",
     "output_type": "stream",
     "text": [
      "<class 'int'>\n",
      "12\n",
      "55\n"
     ]
    }
   ],
   "source": [
    "# Type Checking\n",
    "num = 100\n",
    "print(type(num))  # Output: <class 'int'>\n",
    "\n",
    "# Type Conversion\n",
    "float_num = 12.7\n",
    "int_num = int(float_num)\n",
    "print(int_num)  # Output: 12 (Note: Decimal part is truncated, not rounded)\n",
    "\n",
    "# String to Integer Conversion\n",
    "str_num = \"55\"\n",
    "int_from_str = int(str_num)\n",
    "print(int_from_str)  # Output: 55\n"
   ]
  },
  {
   "cell_type": "markdown",
   "metadata": {},
   "source": [
    "##### Integer Division:\n",
    "Integer division can be done using the // operator, which will ignore the remainder and return only the quotient"
   ]
  },
  {
   "cell_type": "code",
   "execution_count": 7,
   "metadata": {},
   "outputs": [
    {
     "name": "stdout",
     "output_type": "stream",
     "text": [
      "3\n"
     ]
    }
   ],
   "source": [
    "# Integer Division\n",
    "result = 15 // 4\n",
    "print(result)  # Output: 3 (ignores the remainder)\n"
   ]
  },
  {
   "cell_type": "markdown",
   "metadata": {},
   "source": [
    "##### Binary, Octal, and Hexadecimal Representations:\n",
    "Integers can also be represented in different number systems like binary, octal, and hexadecimal.\n",
    "Binary: Prefix 0b\n",
    "Octal: Prefix 0o\n",
    "Hexadecimal: Prefix 0x"
   ]
  },
  {
   "cell_type": "code",
   "execution_count": 8,
   "metadata": {},
   "outputs": [
    {
     "name": "stdout",
     "output_type": "stream",
     "text": [
      "10\n",
      "10\n",
      "10\n"
     ]
    }
   ],
   "source": [
    "# Binary Representation\n",
    "bin_num = 0b1010  # Binary for 10\n",
    "print(bin_num)  # Output: 10\n",
    "\n",
    "# Octal Representation\n",
    "oct_num = 0o12  # Octal for 10\n",
    "print(oct_num)  # Output: 10\n",
    "\n",
    "# Hexadecimal Representation\n",
    "hex_num = 0xA  # Hexadecimal for 10\n",
    "print(hex_num)  # Output: 10\n"
   ]
  },
  {
   "cell_type": "markdown",
   "metadata": {},
   "source": [
    "##### Common Functions for Integers:\n",
    "abs(x): Returns the absolute value of an integer.\n",
    "pow(x, y): Returns x raised to the power y.\n",
    "divmod(x, y): Returns a tuple with the quotient and remainder (x // y, x % y)."
   ]
  },
  {
   "cell_type": "code",
   "execution_count": 9,
   "metadata": {},
   "outputs": [
    {
     "name": "stdout",
     "output_type": "stream",
     "text": [
      "45\n",
      "8\n",
      "Quotient: 3 Remainder: 2\n"
     ]
    }
   ],
   "source": [
    "# Absolute value\n",
    "num = -45\n",
    "print(abs(num))  # Output: 45\n",
    "\n",
    "# Power function (similar to x ** y)\n",
    "result = pow(2, 3)\n",
    "print(result)  # Output: 8\n",
    "\n",
    "# Divmod function (returns quotient and remainder)\n",
    "quotient, remainder = divmod(17, 5)\n",
    "print(\"Quotient:\", quotient, \"Remainder:\", remainder)  # Output: Quotient: 3 Remainder: 2\n"
   ]
  },
  {
   "cell_type": "markdown",
   "metadata": {},
   "source": [
    "##### Bitwise Operations:\n",
    "Bitwise operators are used to manipulate individual bits of integers. These operators include & (AND), | (OR), ^ (XOR), ~ (NOT), << (left shift), and >> (right shift)."
   ]
  },
  {
   "cell_type": "code",
   "execution_count": 10,
   "metadata": {},
   "outputs": [
    {
     "name": "stdout",
     "output_type": "stream",
     "text": [
      "1\n",
      "7\n",
      "6\n",
      "-6\n",
      "10\n",
      "2\n"
     ]
    }
   ],
   "source": [
    "# Bitwise AND\n",
    "a = 5  # Binary: 0101\n",
    "b = 3  # Binary: 0011\n",
    "print(a & b)  # Output: 1 (Binary: 0001)\n",
    "\n",
    "# Bitwise OR\n",
    "print(a | b)  # Output: 7 (Binary: 0111)\n",
    "\n",
    "# Bitwise XOR\n",
    "print(a ^ b)  # Output: 6 (Binary: 0110)\n",
    "\n",
    "# Bitwise NOT\n",
    "print(~a)  # Output: -6 (Inverts all the bits)\n",
    "\n",
    "# Left Shift\n",
    "print(a << 1)  # Output: 10 (Binary: 1010)\n",
    "\n",
    "# Right Shift\n",
    "print(a >> 1)  # Output: 2 (Binary: 0010)\n"
   ]
  },
  {
   "cell_type": "markdown",
   "metadata": {},
   "source": [
    "##### Integer Overflow in Python:\n",
    "Python’s integers are of arbitrary precision, meaning they can handle extremely large values without causing an overflow, unlike many other languages."
   ]
  },
  {
   "cell_type": "code",
   "execution_count": 11,
   "metadata": {},
   "outputs": [
    {
     "name": "stdout",
     "output_type": "stream",
     "text": [
      "99999999999999999999999999999999999999\n"
     ]
    }
   ],
   "source": [
    "# Python's large integers\n",
    "large_num = 99999999999999999999999999999999999999\n",
    "print(large_num)  # Python handles large integers with arbitrary precision\n"
   ]
  },
  {
   "cell_type": "markdown",
   "metadata": {},
   "source": [
    "#### 2.1.2 Floating Point (float)\n",
    "Definition:\n",
    "Floating-point numbers represent real numbers that contain a fractional part. These numbers are written with a decimal point, even if the decimal part is zero (e.g., 1.0).\n",
    "Floats can represent positive and negative real numbers, including zero.\n",
    "\n",
    "Precision: Floats have a precision limit due to their binary representation, which can lead to rounding errors in some cases.\n",
    "\n",
    "Performance: Operations with floats may be slightly slower than with integers due to the need for handling decimal places."
   ]
  },
  {
   "cell_type": "code",
   "execution_count": 1,
   "metadata": {},
   "outputs": [
    {
     "name": "stdout",
     "output_type": "stream",
     "text": [
      "3.14 -2.718 0.0\n"
     ]
    }
   ],
   "source": [
    "# Examples of floats\n",
    "x = 3.14\n",
    "y = -2.718\n",
    "z = 0.0\n",
    "\n",
    "print(x, y, z)  # Output: 3.14 -2.718 0.0"
   ]
  },
  {
   "cell_type": "markdown",
   "metadata": {},
   "source": [
    "##### Basic Operations:\n",
    "Floats support all the basic arithmetic operations like integers, but they also include fractional results."
   ]
  },
  {
   "cell_type": "code",
   "execution_count": 2,
   "metadata": {},
   "outputs": [
    {
     "name": "stdout",
     "output_type": "stream",
     "text": [
      "Addition: 14.7\n",
      "Subtraction: 6.3\n",
      "Multiplication: 44.1\n",
      "Division: 2.5\n"
     ]
    }
   ],
   "source": [
    "# Arithmetic operations with floats\n",
    "a = 10.5\n",
    "b = 4.2\n",
    "\n",
    "print(\"Addition:\", a + b)            # Output: 14.7\n",
    "print(\"Subtraction:\", a - b)         # Output: 6.3\n",
    "print(\"Multiplication:\", a * b)      # Output: 44.1\n",
    "print(\"Division:\", a / b)            # Output: 2.5\n"
   ]
  },
  {
   "cell_type": "markdown",
   "metadata": {},
   "source": [
    "##### Rounding and Truncating:\n",
    "Rounding is used to reduce the number of decimal places in a float.\n",
    "Python provides built-in functions like round(), floor(), and ceil() from the math module to handle rounding."
   ]
  },
  {
   "cell_type": "markdown",
   "metadata": {},
   "source": []
  },
  {
   "cell_type": "code",
   "execution_count": 3,
   "metadata": {},
   "outputs": [
    {
     "name": "stdout",
     "output_type": "stream",
     "text": [
      "3.14\n",
      "3\n",
      "4\n"
     ]
    }
   ],
   "source": [
    "import math\n",
    "\n",
    "# Rounding to the nearest integer\n",
    "rounded_value = round(3.14159, 2)  # Round to 2 decimal places\n",
    "print(rounded_value)  # Output: 3.14\n",
    "\n",
    "# Floor and Ceil\n",
    "print(math.floor(3.7))  # Output: 3 (rounds down)\n",
    "print(math.ceil(3.2))   # Output: 4 (rounds up)\n"
   ]
  },
  {
   "cell_type": "markdown",
   "metadata": {},
   "source": [
    "##### Scientific Notation:\n",
    "Floats can be represented using scientific notation in Python, especially useful for representing very large or very small numbers."
   ]
  },
  {
   "cell_type": "code",
   "execution_count": 4,
   "metadata": {},
   "outputs": [
    {
     "name": "stdout",
     "output_type": "stream",
     "text": [
      "1500.0\n"
     ]
    }
   ],
   "source": [
    "# Scientific notation\n",
    "sci_float = 1.5e3  # Equivalent to 1.5 * 10^3\n",
    "print(sci_float)  # Output: 1500.0\n"
   ]
  },
  {
   "cell_type": "markdown",
   "metadata": {},
   "source": [
    "##### Type Conversion:\n",
    "Python allows conversion between floats and other data types (like integers and strings) using float()."
   ]
  },
  {
   "cell_type": "code",
   "execution_count": 5,
   "metadata": {},
   "outputs": [
    {
     "name": "stdout",
     "output_type": "stream",
     "text": [
      "10.0\n",
      "3.14159\n"
     ]
    }
   ],
   "source": [
    "# Converting from integer to float\n",
    "int_value = 10\n",
    "float_value = float(int_value)\n",
    "print(float_value)  # Output: 10.0\n",
    "\n",
    "# Converting string to float\n",
    "str_value = \"3.14159\"\n",
    "float_from_str = float(str_value)\n",
    "print(float_from_str)  # Output: 3.14159\n"
   ]
  },
  {
   "cell_type": "markdown",
   "metadata": {},
   "source": [
    "##### Imprecision in Floats:\n",
    "Floating-point numbers are represented in binary, which can cause rounding errors due to the limited precision of binary numbers."
   ]
  },
  {
   "cell_type": "code",
   "execution_count": 6,
   "metadata": {},
   "outputs": [
    {
     "name": "stdout",
     "output_type": "stream",
     "text": [
      "0.30000000000000004\n"
     ]
    }
   ],
   "source": [
    "# Example of imprecision\n",
    "result = 0.1 + 0.2\n",
    "print(result)  # Output: 0.30000000000000004 (small imprecision due to floating-point arithmetic)\n"
   ]
  },
  {
   "cell_type": "markdown",
   "metadata": {},
   "source": [
    "##### Floating-Point Limits:\n",
    "Python floats are represented in double precision (64 bits), meaning they can handle very large numbers, but they still have limits."
   ]
  },
  {
   "cell_type": "code",
   "execution_count": 7,
   "metadata": {},
   "outputs": [
    {
     "name": "stdout",
     "output_type": "stream",
     "text": [
      "1.7976931348623157e+308\n",
      "2.2250738585072014e-308\n"
     ]
    }
   ],
   "source": [
    "# Maximum float value\n",
    "import sys\n",
    "print(sys.float_info.max)  # Output: 1.7976931348623157e+308\n",
    "\n",
    "# Minimum positive float value\n",
    "print(sys.float_info.min)  # Output: 2.2250738585072014e-308\n"
   ]
  },
  {
   "cell_type": "markdown",
   "metadata": {},
   "source": [
    "##### Comparing Floats:\n",
    "Due to imprecision, comparing floats directly can lead to errors. It's better to compare floats by checking if their difference is within a small tolerance."
   ]
  },
  {
   "cell_type": "code",
   "execution_count": 8,
   "metadata": {},
   "outputs": [
    {
     "name": "stdout",
     "output_type": "stream",
     "text": [
      "The numbers are approximately equal\n"
     ]
    }
   ],
   "source": [
    "# Comparing floats with a tolerance\n",
    "a = 0.1 + 0.2\n",
    "b = 0.3\n",
    "\n",
    "# Using a tolerance for comparison\n",
    "tolerance = 1e-9\n",
    "if abs(a - b) < tolerance:\n",
    "    print(\"The numbers are approximately equal\")\n",
    "else:\n",
    "    print(\"The numbers are not equal\")\n"
   ]
  },
  {
   "cell_type": "markdown",
   "metadata": {},
   "source": [
    "##### Common Functions for Floats:\n",
    "round(x, n): Rounds the float x to n decimal places.\n",
    "abs(x): Returns the absolute value of the float.\n",
    "math.isinf(x): Checks if x is infinite.\n",
    "math.isnan(x): Checks if x is NaN."
   ]
  },
  {
   "cell_type": "code",
   "execution_count": 10,
   "metadata": {},
   "outputs": [
    {
     "name": "stdout",
     "output_type": "stream",
     "text": [
      "inf -inf\n",
      "nan\n",
      "3.14159\n",
      "-3.14\n",
      "True\n",
      "True\n"
     ]
    }
   ],
   "source": [
    "# Infinity\n",
    "pos_inf = float('inf')\n",
    "neg_inf = float('-inf')\n",
    "print(pos_inf, neg_inf)  # Output: inf -inf\n",
    "\n",
    "# Not a Number (NaN)\n",
    "nan_value = float('nan')\n",
    "print(nan_value)  # Output: nan\n",
    "\n",
    "# Examples of common float functions\n",
    "num = -3.14159\n",
    "\n",
    "# Absolute value\n",
    "print(abs(num))  # Output: 3.14159\n",
    "\n",
    "# Rounding to 2 decimal places\n",
    "print(round(num, 2))  # Output: -3.14\n",
    "\n",
    "# Check if number is infinite or NaN\n",
    "print(math.isinf(pos_inf))  # Output: True\n",
    "print(math.isnan(nan_value))  # Output: True\n"
   ]
  },
  {
   "cell_type": "markdown",
   "metadata": {},
   "source": [
    "### 2.2 Non Primitive Type"
   ]
  },
  {
   "cell_type": "markdown",
   "metadata": {},
   "source": [
    "These data types are more complex than primitive types and typically involve collections or groups of elements."
   ]
  },
  {
   "cell_type": "markdown",
   "metadata": {},
   "source": [
    "#### 2.2.1 Lists"
   ]
  },
  {
   "cell_type": "markdown",
   "metadata": {},
   "source": [
    "**Lists in Python**\n",
    "\n",
    "**Definition**:\n",
    "A list is an ordered, mutable collection of elements, where each element can be of any data type.\n",
    "Lists are defined using square brackets ([]), and elements are separated by commas.\n",
    "Syntax: my_list = [element1, element2, element3]\n",
    "\n",
    "**Memory Management**:\n",
    "Lists in Python are implemented as dynamic arrays. When more space is needed, Python automatically allocates more memory to avoid frequent resizing.\n",
    "This allocation ensures amortized O(1) performance for append operations.\n",
    "You can check the memory usage of a list with sys.getsizeof().\n",
    "Lists allocate more memory than required for the current number of elements to optimize append operations.\n",
    "\n",
    "**Performance**:\n",
    "Indexing: O(1)\n",
    "Appending: O(1) (amortized)\n",
    "Inserting/Deleting: O(n) (inserting or removing elements at an arbitrary index requires shifting elements)\n",
    "Slicing: O(k) (where k is the size of the slice)\n",
    "\n",
    "**Best Practices**:\n",
    "Use list comprehensions for concise, readable, and efficient list operations.\n",
    "Avoid modifying lists while iterating over them—use a new list instead.\n",
    "Prefer sorted() over sort() when you need a non-mutating sorting operation.\n",
    "Use in for fast membership checks in small lists.\n",
    "\n",
    "**Memory Optimization**:\n",
    "For homogeneous data types, consider using Python’s array module for more memory-efficient storage.\n",
    "Example: from array import array."
   ]
  },
  {
   "cell_type": "markdown",
   "metadata": {},
   "source": [
    "##### (Part 1): Basic Structure, Access, and Slicing"
   ]
  },
  {
   "cell_type": "markdown",
   "metadata": {},
   "source": [
    "1. Creating Lists\n",
    "A list in Python is a collection of elements, each identified by an index.\n",
    "Lists can hold elements of any data type, including other lists (nested lists)."
   ]
  },
  {
   "cell_type": "code",
   "execution_count": 11,
   "metadata": {},
   "outputs": [
    {
     "name": "stdout",
     "output_type": "stream",
     "text": [
      "[1, 2.0, 'x']\n",
      "[10, 20, 30, 40]\n"
     ]
    }
   ],
   "source": [
    "element1 = 1\n",
    "element2 = 2.0\n",
    "element3 = 'x'\n",
    "# Creating a list\n",
    "my_list = [element1, element2, element3]\n",
    "print(my_list)\n",
    "\n",
    "# Example\n",
    "numbers = [10, 20, 30, 40]\n",
    "print(numbers)  # Output: [10, 20, 30, 40]\n"
   ]
  },
  {
   "cell_type": "markdown",
   "metadata": {},
   "source": [
    "- Empty List: You can create an empty list using square brackets [] or the list() constructor."
   ]
  },
  {
   "cell_type": "code",
   "execution_count": 12,
   "metadata": {},
   "outputs": [
    {
     "name": "stdout",
     "output_type": "stream",
     "text": [
      "[]\n",
      "[]\n"
     ]
    }
   ],
   "source": [
    "empty_list = []\n",
    "empty_list_via_constructor = list()\n",
    "\n",
    "print(empty_list)               # Output: []\n",
    "print(empty_list_via_constructor)  # Output: []\n"
   ]
  },
  {
   "cell_type": "markdown",
   "metadata": {},
   "source": [
    "2. Accessing List Elements\n",
    "Elements in a list can be accessed using their index, starting from 0 for the first element.\n",
    "Negative indices can be used to access elements starting from the last element."
   ]
  },
  {
   "cell_type": "code",
   "execution_count": 13,
   "metadata": {},
   "outputs": [],
   "source": [
    "# Accessing elements by index\n",
    "my_list = [1, 2, 3, 4, 5]\n",
    "first_element = my_list[0]  # Output: 1\n",
    "second_element = my_list[1]  # Output: 2\n",
    "\n",
    "# Accessing the last element using negative indexing\n",
    "last_element = my_list[-1]  # Output: 5\n",
    "second_last_element = my_list[-2]  # Output: 4\n"
   ]
  },
  {
   "cell_type": "markdown",
   "metadata": {},
   "source": [
    "- IndexError:\n",
    "Accessing an index outside the valid range of a list results in an IndexError."
   ]
  },
  {
   "cell_type": "code",
   "execution_count": 14,
   "metadata": {},
   "outputs": [
    {
     "ename": "IndexError",
     "evalue": "list index out of range",
     "output_type": "error",
     "traceback": [
      "\u001b[1;31m---------------------------------------------------------------------------\u001b[0m",
      "\u001b[1;31mIndexError\u001b[0m                                Traceback (most recent call last)",
      "\u001b[1;32m~\\AppData\\Local\\Temp/ipykernel_23352/1195675040.py\u001b[0m in \u001b[0;36m<module>\u001b[1;34m\u001b[0m\n\u001b[0;32m      1\u001b[0m \u001b[0mmy_list\u001b[0m \u001b[1;33m=\u001b[0m \u001b[1;33m[\u001b[0m\u001b[1;36m1\u001b[0m\u001b[1;33m,\u001b[0m \u001b[1;36m2\u001b[0m\u001b[1;33m,\u001b[0m \u001b[1;36m3\u001b[0m\u001b[1;33m]\u001b[0m\u001b[1;33m\u001b[0m\u001b[1;33m\u001b[0m\u001b[0m\n\u001b[1;32m----> 2\u001b[1;33m \u001b[0mprint\u001b[0m\u001b[1;33m(\u001b[0m\u001b[0mmy_list\u001b[0m\u001b[1;33m[\u001b[0m\u001b[1;36m5\u001b[0m\u001b[1;33m]\u001b[0m\u001b[1;33m)\u001b[0m  \u001b[1;31m# Output: IndexError: list index out of range\u001b[0m\u001b[1;33m\u001b[0m\u001b[1;33m\u001b[0m\u001b[0m\n\u001b[0m",
      "\u001b[1;31mIndexError\u001b[0m: list index out of range"
     ]
    }
   ],
   "source": [
    "my_list = [1, 2, 3]\n",
    "print(my_list[5])  # Output: IndexError: list index out of range\n"
   ]
  },
  {
   "cell_type": "markdown",
   "metadata": {},
   "source": [
    "3. List Slicing\n",
    "Slicing allows you to access a subset of elements from the list.\n",
    "The slicing syntax is: list[start:stop:step], where:\n",
    "start: The index where the slice starts (inclusive).\n",
    "stop: The index where the slice ends (exclusive).\n",
    "step: The interval at which elements are taken (optional)."
   ]
  },
  {
   "cell_type": "markdown",
   "metadata": {},
   "source": [
    "- Basic Slicing:"
   ]
  },
  {
   "cell_type": "code",
   "execution_count": 15,
   "metadata": {},
   "outputs": [
    {
     "name": "stdout",
     "output_type": "stream",
     "text": [
      "[20, 30, 40]\n",
      "[30, 40, 50]\n",
      "[10, 20, 30]\n"
     ]
    }
   ],
   "source": [
    "my_list = [10, 20, 30, 40, 50]\n",
    "\n",
    "# Slice from index 1 to 3 (end index is exclusive)\n",
    "sublist = my_list[1:4]  # Output: [20, 30, 40]\n",
    "print(sublist)\n",
    "\n",
    "# Slice from index 2 to the end\n",
    "sublist = my_list[2:]  # Output: [30, 40, 50]\n",
    "print(sublist)\n",
    "\n",
    "# Slice from the start to index 3\n",
    "sublist = my_list[:3]  # Output: [10, 20, 30]\n",
    "print(sublist)"
   ]
  },
  {
   "cell_type": "markdown",
   "metadata": {},
   "source": [
    "- Slicing with Step:"
   ]
  },
  {
   "cell_type": "code",
   "execution_count": 16,
   "metadata": {},
   "outputs": [],
   "source": [
    "# List slicing with a step of 2\n",
    "my_list = [10, 20, 30, 40, 50, 60]\n",
    "\n",
    "# Slice every second element\n",
    "sublist = my_list[::2]  # Output: [10, 30, 50]\n",
    "\n",
    "# Slice with a negative step (reverse the list)\n",
    "reversed_list = my_list[::-1]  # Output: [60, 50, 40, 30, 20, 10]\n"
   ]
  },
  {
   "cell_type": "markdown",
   "metadata": {},
   "source": [
    "- Slicing Edge Cases:\n",
    "If start is greater than or equal to stop, the result will be an empty list.\n",
    "If no start or stop is provided, Python assumes the beginning and end of the list, respectively."
   ]
  },
  {
   "cell_type": "code",
   "execution_count": 17,
   "metadata": {},
   "outputs": [
    {
     "name": "stdout",
     "output_type": "stream",
     "text": [
      "[]\n",
      "[1, 2, 3, 4]\n"
     ]
    }
   ],
   "source": [
    "my_list = [1, 2, 3, 4]\n",
    "\n",
    "# start >= stop\n",
    "print(my_list[3:1])  # Output: []\n",
    "\n",
    "# No start or stop\n",
    "print(my_list[:])  # Output: [1, 2, 3, 4]\n"
   ]
  },
  {
   "cell_type": "markdown",
   "metadata": {},
   "source": [
    "- Reverse list"
   ]
  },
  {
   "cell_type": "code",
   "execution_count": 19,
   "metadata": {},
   "outputs": [
    {
     "name": "stdout",
     "output_type": "stream",
     "text": [
      "[4, 3, 2, 1]\n"
     ]
    }
   ],
   "source": [
    "my_list = [1, 2, 3, 4]\n",
    "rev_list = my_list[::-1]\n",
    "\n",
    "print(rev_list)"
   ]
  },
  {
   "cell_type": "code",
   "execution_count": null,
   "metadata": {},
   "outputs": [],
   "source": []
  },
  {
   "cell_type": "markdown",
   "metadata": {},
   "source": [
    "##### (Part 2): Modifying, Adding, and Removing Elements"
   ]
  },
  {
   "cell_type": "markdown",
   "metadata": {},
   "source": []
  },
  {
   "cell_type": "markdown",
   "metadata": {},
   "source": [
    "## 3. Control Flow Statements"
   ]
  },
  {
   "cell_type": "markdown",
   "metadata": {},
   "source": [
    "## 4. Functions\n"
   ]
  },
  {
   "cell_type": "markdown",
   "metadata": {},
   "source": [
    "## 5. Modules and Packages"
   ]
  },
  {
   "cell_type": "markdown",
   "metadata": {},
   "source": [
    "## 6. Object-Oriented Programming (OOP)"
   ]
  },
  {
   "cell_type": "markdown",
   "metadata": {},
   "source": [
    "## 7. Exception Handling"
   ]
  },
  {
   "cell_type": "markdown",
   "metadata": {},
   "source": [
    "## 8. File Handling"
   ]
  },
  {
   "cell_type": "markdown",
   "metadata": {},
   "source": [
    "## 9. Advanced Topics"
   ]
  },
  {
   "cell_type": "markdown",
   "metadata": {},
   "source": [
    "## 10. Common Algorithms and Data Structures"
   ]
  },
  {
   "cell_type": "markdown",
   "metadata": {},
   "source": []
  }
 ],
 "metadata": {
  "kernelspec": {
   "display_name": "Python 3",
   "language": "python",
   "name": "python3"
  },
  "language_info": {
   "codemirror_mode": {
    "name": "ipython",
    "version": 3
   },
   "file_extension": ".py",
   "mimetype": "text/x-python",
   "name": "python",
   "nbconvert_exporter": "python",
   "pygments_lexer": "ipython3",
   "version": "3.10.1"
  }
 },
 "nbformat": 4,
 "nbformat_minor": 2
}
